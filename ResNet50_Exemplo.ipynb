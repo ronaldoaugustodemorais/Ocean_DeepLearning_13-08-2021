{
  "nbformat": 4,
  "nbformat_minor": 0,
  "metadata": {
    "colab": {
      "name": "ResNet50_Exemplo.ipynb",
      "provenance": [],
      "authorship_tag": "ABX9TyPofyk5NqGWlRLRjM/QUYhd",
      "include_colab_link": true
    },
    "kernelspec": {
      "name": "python3",
      "display_name": "Python 3"
    },
    "language_info": {
      "name": "python"
    }
  },
  "cells": [
    {
      "cell_type": "markdown",
      "metadata": {
        "id": "view-in-github",
        "colab_type": "text"
      },
      "source": [
        "<a href=\"https://colab.research.google.com/github/ronaldoaugustodemorais/Ocean_DeepLearning_13-08-2021/blob/main/ResNet50_Exemplo.ipynb\" target=\"_parent\"><img src=\"https://colab.research.google.com/assets/colab-badge.svg\" alt=\"Open In Colab\"/></a>"
      ]
    },
    {
      "cell_type": "code",
      "metadata": {
        "colab": {
          "base_uri": "https://localhost:8080/"
        },
        "id": "314o1zEYHzHq",
        "outputId": "876e401f-644a-4756-d1c2-53ee211720ad"
      },
      "source": [
        "from keras.applications.resnet50 import ResNet50\n",
        "from keras.preprocessing import image\n",
        "from keras.applications.resnet50 import preprocess_input, decode_predictions\n",
        "import numpy as np\n",
        "\n",
        "model = ResNet50(weights='imagenet')"
      ],
      "execution_count": 1,
      "outputs": [
        {
          "output_type": "stream",
          "text": [
            "Downloading data from https://storage.googleapis.com/tensorflow/keras-applications/resnet/resnet50_weights_tf_dim_ordering_tf_kernels.h5\n",
            "102973440/102967424 [==============================] - 1s 0us/step\n"
          ],
          "name": "stdout"
        }
      ]
    },
    {
      "cell_type": "code",
      "metadata": {
        "colab": {
          "base_uri": "https://localhost:8080/"
        },
        "id": "fIE6ILhJILX8",
        "outputId": "cdc8fc2e-22d0-4531-c3c6-eda89777d338"
      },
      "source": [
        "img_path = 'cubo.jpg'\n",
        "\n",
        "img = image.load_img(img_path, target_size=(224, 224))\n",
        "x = image.img_to_array(img)\n",
        "x = np.expand_dims(x, axis=0)\n",
        "x = preprocess_input(x)\n",
        "\n",
        "predictions = model.predict(x)\n",
        "\n",
        "print(\"Previsão:\", decode_predictions(predictions, top=10))"
      ],
      "execution_count": 4,
      "outputs": [
        {
          "output_type": "stream",
          "text": [
            "Downloading data from https://storage.googleapis.com/download.tensorflow.org/data/imagenet_class_index.json\n",
            "40960/35363 [==================================] - 0s 0us/step\n",
            "Previsão: [[('n02840245', 'binder', 0.224779), ('n03482405', 'hamper', 0.17585102), ('n03014705', 'chest', 0.10604035), ('n04372370', 'switch', 0.05271819), ('n03843555', 'oil_filter', 0.039056003), ('n03337140', 'file', 0.034343135), ('n03314780', 'face_powder', 0.032108307), ('n02870880', 'bookcase', 0.023873113), ('n03908714', 'pencil_sharpener', 0.01730198), ('n03476991', 'hair_spray', 0.012882872)]]\n"
          ],
          "name": "stdout"
        }
      ]
    }
  ]
}